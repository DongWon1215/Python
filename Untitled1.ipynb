{
 "cells": [
  {
   "cell_type": "code",
   "execution_count": 3,
   "id": "d7bd4b5e",
   "metadata": {},
   "outputs": [
    {
     "name": "stdout",
     "output_type": "stream",
     "text": [
      "<class 'dict'> {}\n"
     ]
    }
   ],
   "source": [
    "# 딕셔너리 : 리스트처럼 데이터를 묶음으로 저장\n",
    "# 저장 :key, value 형식\n",
    "# 참조 : key값으로 참조\n",
    "\n",
    "dic_a = {}\n",
    "print(type(dic_a), dic_a)\n"
   ]
  },
  {
   "cell_type": "code",
   "execution_count": 7,
   "id": "1a02d6ec",
   "metadata": {},
   "outputs": [
    {
     "name": "stdout",
     "output_type": "stream",
     "text": [
      "{1, 2, 3, 4, 5}\n",
      "[1, 2, 3, 4, 5, 1, 2, 3]\n"
     ]
    }
   ],
   "source": [
    "dic_b = {1,2,3,4,5,1,2,3}\n",
    "list_a = [1,2,3,4,5,1,2,3]\n",
    "print(dic_b)\n",
    "print(list_a)"
   ]
  },
  {
   "cell_type": "code",
   "execution_count": 8,
   "id": "aee0400c",
   "metadata": {},
   "outputs": [
    {
     "name": "stdout",
     "output_type": "stream",
     "text": [
      "{'no': 7, 'name': '손흥민'}\n"
     ]
    }
   ],
   "source": [
    "dic_c = {\n",
    "    'no' : 7,\n",
    "    'name' : '손흥민'\n",
    "}\n",
    "print(dic_c)"
   ]
  },
  {
   "cell_type": "code",
   "execution_count": null,
   "id": "3847fa17",
   "metadata": {},
   "outputs": [],
   "source": [
    "playerName = dic_c.get('team')\n",
    "if playerName == None:\n",
    "    print(\"존재하지 않는 key\")"
   ]
  },
  {
   "cell_type": "code",
   "execution_count": null,
   "id": "0fe09737",
   "metadata": {},
   "outputs": [],
   "source": [
    "# range() : 특정 범위의 숫자를 생성\n",
    "# range(n) : 0~ n-1 범위의 숫자 생성\n",
    "# range(index, n): index ~ n-1\n",
    "# range(index, n, step) : index ~ n-1, 증가하는 값은 step 만큼 증가\n"
   ]
  },
  {
   "cell_type": "code",
   "execution_count": 10,
   "id": "05dc581f",
   "metadata": {},
   "outputs": [
    {
     "name": "stdout",
     "output_type": "stream",
     "text": [
      "<class 'range'> range(0, 5)\n",
      "[0, 1, 2, 3, 4]\n"
     ]
    }
   ],
   "source": [
    "a = range(5)\n",
    "print(type(a),a)\n",
    "list_b = list(a)\n",
    "print(list_b)"
   ]
  },
  {
   "cell_type": "code",
   "execution_count": 11,
   "id": "7456c2cc",
   "metadata": {},
   "outputs": [
    {
     "name": "stdout",
     "output_type": "stream",
     "text": [
      "0\n",
      "1\n",
      "2\n",
      "3\n",
      "4\n"
     ]
    }
   ],
   "source": [
    "# while : 반복문 => 조건의 결과를 True로 하는 경우 사용\n",
    "i = 0\n",
    "while i < 5 :\n",
    "    print(i)\n",
    "    i += 1;"
   ]
  },
  {
   "cell_type": "code",
   "execution_count": 14,
   "id": "5bac7021",
   "metadata": {},
   "outputs": [
    {
     "name": "stdout",
     "output_type": "stream",
     "text": [
      "[1, 2, 1, 2]\n",
      "[2, 1, 2]\n",
      "[2, 1, 2]\n",
      "[2, 2]\n"
     ]
    }
   ],
   "source": [
    "list_d = [1,2,1,2]\n",
    "\n",
    "while 1 in list_d :\n",
    "    print(list_d)\n",
    "    list_d.remove(1)\n",
    "    print(list_d)"
   ]
  },
  {
   "cell_type": "code",
   "execution_count": null,
   "id": "facd579e",
   "metadata": {},
   "outputs": [],
   "source": [
    "# 함수 : input -> 처리 -> return\n",
    "#  매개변수 처리 => 가변 매개변수, 매개변수의 기본 값\n",
    "# def 함수이름() : ...  return"
   ]
  },
  {
   "cell_type": "code",
   "execution_count": 19,
   "id": "3723cabd",
   "metadata": {},
   "outputs": [
    {
     "name": "stdout",
     "output_type": "stream",
     "text": [
      "안녕\n",
      "안녕\n",
      "안녕\n"
     ]
    }
   ],
   "source": [
    "def print_3() :\n",
    "    print('안녕')\n",
    "    print('안녕')\n",
    "    print('안녕')\n",
    "    \n",
    "print_3()"
   ]
  },
  {
   "cell_type": "code",
   "execution_count": 18,
   "id": "2a14e1b7",
   "metadata": {},
   "outputs": [
    {
     "name": "stdout",
     "output_type": "stream",
     "text": [
      "Hello\n",
      "Hello\n",
      "Hello\n",
      "Hello\n",
      "Hello\n"
     ]
    }
   ],
   "source": [
    "def print_time(value ,n):\n",
    "    for i in range(n):\n",
    "        print(value)\n",
    "        \n",
    "print_time('Hello',5)"
   ]
  },
  {
   "cell_type": "code",
   "execution_count": null,
   "id": "2d0a67f8",
   "metadata": {},
   "outputs": [],
   "source": []
  }
 ],
 "metadata": {
  "kernelspec": {
   "display_name": "Python 3 (ipykernel)",
   "language": "python",
   "name": "python3"
  },
  "language_info": {
   "codemirror_mode": {
    "name": "ipython",
    "version": 3
   },
   "file_extension": ".py",
   "mimetype": "text/x-python",
   "name": "python",
   "nbconvert_exporter": "python",
   "pygments_lexer": "ipython3",
   "version": "3.9.13"
  }
 },
 "nbformat": 4,
 "nbformat_minor": 5
}
