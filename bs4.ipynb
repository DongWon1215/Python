{
 "cells": [
  {
   "cell_type": "code",
   "execution_count": 2,
   "id": "29b9345e",
   "metadata": {},
   "outputs": [],
   "source": [
    "import bs4, requests"
   ]
  },
  {
   "cell_type": "code",
   "execution_count": 3,
   "id": "c87064fa",
   "metadata": {},
   "outputs": [],
   "source": [
    "html = '''\n",
    "<html>\n",
    "<head>\n",
    "</head>\n",
    "<body>\n",
    "    <h1> 우리동네시장</h1>\n",
    "    <div class = 'sale'>\n",
    "        <p id='fruits1' class='fruits'>\n",
    "            <span class = 'name'> 바나나 </span>\n",
    "            <span class = 'price'> 3000원 </span>\n",
    "            <span class = 'inventory'> 500개 </span>\n",
    "            <span class = 'store'> 가나다상회 </span>\n",
    "            <a href = 'http://www.naver.com' > 홈페이지 </a>\n",
    "        </p>\n",
    "    </div>\n",
    "    <div class = 'prepare'>\n",
    "        <p id='fruits2' class='fruits'>\n",
    "            <span class ='name'> 파인애플 </span>\n",
    "        </p>\n",
    "    </div>\n",
    "</body>\n",
    "</html>\n",
    "'''"
   ]
  },
  {
   "cell_type": "code",
   "execution_count": 4,
   "id": "2e48006b",
   "metadata": {},
   "outputs": [],
   "source": [
    "soup = bs4.BeautifulSoup(html)\n",
    "print(soup)"
   ]
  },
  {
   "cell_type": "code",
   "execution_count": 7,
   "id": "871d31ac",
   "metadata": {},
   "outputs": [
    {
     "name": "stdout",
     "output_type": "stream",
     "text": [
      "<span class=\"name\"> 바나나 </span>\n",
      "<span class=\"price\"> 3000원 </span>\n",
      "<span class=\"inventory\"> 500개 </span>\n",
      "<span class=\"store\"> 가나다상회 </span>\n",
      "<span class=\"name\"> 파인애플 </span>\n"
     ]
    }
   ],
   "source": [
    "# 태그 이름으로 검색\n",
    "# select 는 list를 반환\n",
    "# find는 조건을 만족하는 가장 상단의 것을 반환\n",
    "tags_span = soup.select('span')\n",
    "#print(tags_span)\n",
    "\n",
    "for i in tags_span:\n",
    "    print(i)"
   ]
  },
  {
   "cell_type": "code",
   "execution_count": 8,
   "id": "23855e0a",
   "metadata": {},
   "outputs": [
    {
     "name": "stdout",
     "output_type": "stream",
     "text": [
      "<p class=\"fruits\" id=\"fruits1\">\n",
      "<span class=\"name\"> 바나나 </span>\n",
      "<span class=\"price\"> 3000원 </span>\n",
      "<span class=\"inventory\"> 500개 </span>\n",
      "<span class=\"store\"> 가나다상회 </span>\n",
      "<a href=\"http://www.naver.com\"> 홈페이지 </a>\n",
      "</p>\n",
      "<p class=\"fruits\" id=\"fruits2\">\n",
      "<span class=\"name\"> 파인애플 </span>\n",
      "</p>\n"
     ]
    }
   ],
   "source": [
    "tags_p = soup.select('p')\n",
    "\n",
    "for i in tags_p:\n",
    "    print(i)"
   ]
  },
  {
   "cell_type": "code",
   "execution_count": 10,
   "id": "06bfa83d",
   "metadata": {},
   "outputs": [
    {
     "name": "stdout",
     "output_type": "stream",
     "text": [
      "[<p class=\"fruits\" id=\"fruits1\">\n",
      "<span class=\"name\"> 바나나 </span>\n",
      "<span class=\"price\"> 3000원 </span>\n",
      "<span class=\"inventory\"> 500개 </span>\n",
      "<span class=\"store\"> 가나다상회 </span>\n",
      "<a href=\"http://www.naver.com\"> 홈페이지 </a>\n",
      "</p>]\n"
     ]
    }
   ],
   "source": [
    "tags_id = soup.select('#fruits1')\n",
    "print(tags_id)"
   ]
  },
  {
   "cell_type": "code",
   "execution_count": 16,
   "id": "6b9ab0ec",
   "metadata": {},
   "outputs": [
    {
     "name": "stdout",
     "output_type": "stream",
     "text": [
      "[<a href=\"http://www.naver.com\"> 홈페이지 </a>]\n",
      "<a href=\"http://www.naver.com\"> 홈페이지 </a>\n",
      " 홈페이지 \n",
      "http://www.naver.com\n"
     ]
    }
   ],
   "source": [
    "tags = soup.select('a')\n",
    "print(tags)\n",
    "tag = tags[0]\n",
    "print(tag)\n",
    "content = tag.text\n",
    "print(content)\n",
    "link = tag['href']\n",
    "print(link)"
   ]
  },
  {
   "cell_type": "code",
   "execution_count": 20,
   "id": "787bb827",
   "metadata": {},
   "outputs": [],
   "source": [
    "import selenium"
   ]
  },
  {
   "cell_type": "code",
   "execution_count": 19,
   "id": "380afea6",
   "metadata": {},
   "outputs": [
    {
     "name": "stdout",
     "output_type": "stream",
     "text": [
      "Collecting selenium\n",
      "  Downloading selenium-4.7.2-py3-none-any.whl (6.3 MB)\n",
      "     ---------------------------------------- 6.3/6.3 MB 9.0 MB/s eta 0:00:00\n",
      "Collecting trio-websocket~=0.9\n",
      "  Downloading trio_websocket-0.9.2-py3-none-any.whl (16 kB)\n",
      "Requirement already satisfied: urllib3[socks]~=1.26 in c:\\users\\cheoho-hi\\anaconda3\\lib\\site-packages (from selenium) (1.26.11)\n",
      "Collecting trio~=0.17\n",
      "  Downloading trio-0.22.0-py3-none-any.whl (384 kB)\n",
      "     -------------------------------------- 384.9/384.9 kB 5.9 MB/s eta 0:00:00\n",
      "Requirement already satisfied: certifi>=2021.10.8 in c:\\users\\cheoho-hi\\anaconda3\\lib\\site-packages (from selenium) (2022.9.14)\n",
      "Requirement already satisfied: sniffio in c:\\users\\cheoho-hi\\anaconda3\\lib\\site-packages (from trio~=0.17->selenium) (1.2.0)\n",
      "Requirement already satisfied: idna in c:\\users\\cheoho-hi\\anaconda3\\lib\\site-packages (from trio~=0.17->selenium) (3.3)\n",
      "Collecting async-generator>=1.9\n",
      "  Downloading async_generator-1.10-py3-none-any.whl (18 kB)\n",
      "Requirement already satisfied: sortedcontainers in c:\\users\\cheoho-hi\\anaconda3\\lib\\site-packages (from trio~=0.17->selenium) (2.4.0)\n",
      "Requirement already satisfied: cffi>=1.14 in c:\\users\\cheoho-hi\\anaconda3\\lib\\site-packages (from trio~=0.17->selenium) (1.15.1)\n",
      "Collecting exceptiongroup>=1.0.0rc9\n",
      "  Downloading exceptiongroup-1.1.0-py3-none-any.whl (14 kB)\n",
      "Collecting outcome\n",
      "  Downloading outcome-1.2.0-py2.py3-none-any.whl (9.7 kB)\n",
      "Requirement already satisfied: attrs>=19.2.0 in c:\\users\\cheoho-hi\\anaconda3\\lib\\site-packages (from trio~=0.17->selenium) (21.4.0)\n",
      "Collecting wsproto>=0.14\n",
      "  Downloading wsproto-1.2.0-py3-none-any.whl (24 kB)\n",
      "Requirement already satisfied: PySocks!=1.5.7,<2.0,>=1.5.6 in c:\\users\\cheoho-hi\\anaconda3\\lib\\site-packages (from urllib3[socks]~=1.26->selenium) (1.7.1)\n",
      "Requirement already satisfied: pycparser in c:\\users\\cheoho-hi\\anaconda3\\lib\\site-packages (from cffi>=1.14->trio~=0.17->selenium) (2.21)\n",
      "Collecting h11<1,>=0.9.0\n",
      "  Downloading h11-0.14.0-py3-none-any.whl (58 kB)\n",
      "     ---------------------------------------- 58.3/58.3 kB ? eta 0:00:00\n",
      "Installing collected packages: outcome, h11, exceptiongroup, async-generator, wsproto, trio, trio-websocket, selenium\n",
      "Successfully installed async-generator-1.10 exceptiongroup-1.1.0 h11-0.14.0 outcome-1.2.0 selenium-4.7.2 trio-0.22.0 trio-websocket-0.9.2 wsproto-1.2.0\n"
     ]
    }
   ],
   "source": [
    "!pip install selenium"
   ]
  },
  {
   "cell_type": "code",
   "execution_count": 22,
   "id": "a059a9fe",
   "metadata": {},
   "outputs": [],
   "source": [
    "url = 'https://www.melon.com/chart/'"
   ]
  },
  {
   "cell_type": "code",
   "execution_count": 21,
   "id": "be99d05a",
   "metadata": {},
   "outputs": [],
   "source": [
    "from selenium import webdriver"
   ]
  },
  {
   "cell_type": "code",
   "execution_count": 27,
   "id": "d2e5e15a",
   "metadata": {},
   "outputs": [
    {
     "name": "stderr",
     "output_type": "stream",
     "text": [
      "C:\\Users\\cheoho-hi\\AppData\\Local\\Temp\\ipykernel_16300\\790887212.py:1: DeprecationWarning: executable_path has been deprecated, please pass in a Service object\n",
      "  driver = webdriver.Chrome('/Users/cheoho-hi/Downloads/chromedriver')\n"
     ]
    },
    {
     "name": "stdout",
     "output_type": "stream",
     "text": [
      "Ditto       |        NewJeans\n",
      "OMG       |        NewJeans\n",
      "Hype boy       |        NewJeans\n",
      "사건의 지평선       |        윤하 (YOUNHA)\n",
      "ANTIFRAGILE       |        LE SSERAFIM (르세라핌)\n"
     ]
    }
   ],
   "source": [
    "driver = webdriver.Chrome('/Users/cheoho-hi/Downloads/chromedriver')\n",
    "driver.get(url)\n",
    "\n",
    "html = driver.page_source\n",
    "\n",
    "soup = bs4.BeautifulSoup(html)\n",
    "\n",
    "# print(soup)\n",
    "# tr -> div > span > a\n",
    "\n",
    "songs = soup.select('tr')[1:]\n",
    "\n",
    "for song in songs[:5]:\n",
    "    title = song.select('div.ellipsis.rank01>span>a')[0].text\n",
    "    singer = song.select('div.ellipsis.rank02>span>a')[0].text\n",
    "    print(title, singer, sep = '       |        ')\n"
   ]
  },
  {
   "cell_type": "code",
   "execution_count": 28,
   "id": "17b3b6a4",
   "metadata": {},
   "outputs": [],
   "source": [
    "import pandas as pd"
   ]
  },
  {
   "cell_type": "code",
   "execution_count": 32,
   "id": "84833a1b",
   "metadata": {},
   "outputs": [
    {
     "name": "stdout",
     "output_type": "stream",
     "text": [
      "[['melon', 1, 'Ditto', 'NewJeans'], ['melon', 2, 'OMG', 'NewJeans'], ['melon', 3, 'Hype boy', 'NewJeans'], ['melon', 4, '사건의 지평선', '윤하 (YOUNHA)'], ['melon', 5, 'ANTIFRAGILE', 'LE SSERAFIM (르세라핌)'], ['melon', 6, 'NOT SORRY (Feat. pH-1) (Prod. by Slom)', '이영지'], ['melon', 7, 'Candy', 'NCT DREAM'], ['melon', 8, 'Attention', 'NewJeans'], ['melon', 9, 'After LIKE', 'IVE (아이브)'], ['melon', 10, '사랑은 늘 도망가', '임영웅']]\n"
     ]
    }
   ],
   "source": [
    "song_data = []\n",
    "\n",
    "rank = 1\n",
    " \n",
    "songs = soup.select('tr')[1:]\n",
    "\n",
    "for song in songs :\n",
    "    title = song.select('div.rank01>span>a')[0].text\n",
    "    singer = song.select('div.rank02>span>a')[0].text\n",
    "    song_data.append(['melon',rank,title,singer])\n",
    "    rank+=1\n",
    "    \n",
    "print(song_data[:10])"
   ]
  },
  {
   "cell_type": "code",
   "execution_count": 33,
   "id": "de498749",
   "metadata": {},
   "outputs": [
    {
     "name": "stdout",
     "output_type": "stream",
     "text": [
      "      서비스   순위              타이틀                   가수\n",
      "0   melon    1            Ditto             NewJeans\n",
      "1   melon    2              OMG             NewJeans\n",
      "2   melon    3         Hype boy             NewJeans\n",
      "3   melon    4          사건의 지평선          윤하 (YOUNHA)\n",
      "4   melon    5      ANTIFRAGILE   LE SSERAFIM (르세라핌)\n",
      "..    ...  ...              ...                  ...\n",
      "95  melon   96          인생은 뷰티풀                  김호중\n",
      "96  melon   97  도깨비불 (Illusion)                aespa\n",
      "97  melon   98          흩어지지 않게  엠씨더맥스 (M.C the MAX)\n",
      "98  melon   99              주마등                  김호중\n",
      "99  melon  100         문 (Moon)            NCT DREAM\n",
      "\n",
      "[100 rows x 4 columns]\n"
     ]
    }
   ],
   "source": [
    "pd_data = pd.DataFrame(song_data, columns=['서비스','순위','타이틀','가수'])\n",
    "print(pd_data)"
   ]
  },
  {
   "cell_type": "code",
   "execution_count": null,
   "id": "e179e9d3",
   "metadata": {},
   "outputs": [],
   "source": []
  },
  {
   "cell_type": "code",
   "execution_count": null,
   "id": "31da4bf2",
   "metadata": {},
   "outputs": [],
   "source": []
  },
  {
   "cell_type": "code",
   "execution_count": null,
   "id": "a25a661e",
   "metadata": {},
   "outputs": [],
   "source": []
  },
  {
   "cell_type": "code",
   "execution_count": null,
   "id": "9553b24e",
   "metadata": {},
   "outputs": [],
   "source": []
  },
  {
   "cell_type": "code",
   "execution_count": null,
   "id": "ffc06276",
   "metadata": {},
   "outputs": [],
   "source": []
  },
  {
   "cell_type": "code",
   "execution_count": null,
   "id": "c42d8dbe",
   "metadata": {},
   "outputs": [],
   "source": []
  },
  {
   "cell_type": "code",
   "execution_count": null,
   "id": "c23d1112",
   "metadata": {},
   "outputs": [],
   "source": []
  },
  {
   "cell_type": "code",
   "execution_count": null,
   "id": "9393be75",
   "metadata": {},
   "outputs": [],
   "source": []
  }
 ],
 "metadata": {
  "kernelspec": {
   "display_name": "Python 3 (ipykernel)",
   "language": "python",
   "name": "python3"
  },
  "language_info": {
   "codemirror_mode": {
    "name": "ipython",
    "version": 3
   },
   "file_extension": ".py",
   "mimetype": "text/x-python",
   "name": "python",
   "nbconvert_exporter": "python",
   "pygments_lexer": "ipython3",
   "version": "3.9.13"
  }
 },
 "nbformat": 4,
 "nbformat_minor": 5
}
