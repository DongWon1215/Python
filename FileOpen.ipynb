{
 "cells": [
  {
   "cell_type": "code",
   "execution_count": 10,
   "id": "dc2c0e82",
   "metadata": {},
   "outputs": [
    {
     "name": "stdout",
     "output_type": "stream",
     "text": [
      "abcdefg\n",
      "test String\n"
     ]
    }
   ],
   "source": [
    "# open : 현재 디렉토리를 기준으로 임의의 파일을 읽어오는 함수\n",
    "f = open('test.txt','r', encoding='UTF-8')\n",
    "data = f.read()\n",
    "print(data)\n",
    "f.close()"
   ]
  },
  {
   "cell_type": "code",
   "execution_count": 25,
   "id": "70a8042d",
   "metadata": {},
   "outputs": [
    {
     "name": "stdout",
     "output_type": "stream",
     "text": [
      "이름,전화번호,등번호\n",
      "손흥민,010-1111-2222,7\n",
      "이강인,010-1111-2223,19\n",
      "김민재,010-1111-2224,20\n",
      "\n"
     ]
    }
   ],
   "source": [
    "f = open('list.csv','r',encoding='cp949')\n",
    "data = f.read()\n",
    "print(data)\n",
    "f.close()"
   ]
  },
  {
   "cell_type": "code",
   "execution_count": 26,
   "id": "e513b5b3",
   "metadata": {},
   "outputs": [
    {
     "name": "stdout",
     "output_type": "stream",
     "text": [
      "<class '_csv.reader'> <_csv.reader object at 0x000001A00D7A22E0>\n"
     ]
    }
   ],
   "source": [
    "import csv\n",
    "\n",
    "f = open('list.csv','r', encoding='cp949')\n",
    "data = csv.reader(f)\n",
    "print(type(data), data)\n",
    "\n",
    "for item in data :\n",
    "    if '손흥민' in data :\n",
    "        print(type(item),item)\n",
    "        \n",
    "f.close()"
   ]
  },
  {
   "cell_type": "code",
   "execution_count": 22,
   "id": "ba71f8e6",
   "metadata": {},
   "outputs": [
    {
     "name": "stdout",
     "output_type": "stream",
     "text": [
      "{\n",
      "  \"todos\": [\n",
      "    {\n",
      "      \"id\": 1,\n",
      "      \"title\": \"json-server \",\n",
      "      \"writer\": \"jin test\",\n",
      "      \"complete\": true\n",
      "    },\n",
      "    {\n",
      "      \"title\": \"오늘 처음 해야할일 수정\",\n",
      "      \"writer\": \"손흥민 수정\",\n",
      "      \"complete\": true,\n",
      "      \"id\": 2\n",
      "    }\n",
      "  ],\n",
      "  \"member\": [\n",
      "    {\n",
      "      \"id\": \"user00\",\n",
      "      \"pw\": \"1111\"\n",
      "    }\n",
      "  ]\n",
      "}\n",
      "<class 'dict'>\n",
      "{'todos': [{'id': 1, 'title': 'json-server ', 'writer': 'jin test', 'complete': True}, {'title': '오늘 처음 해야할일 수정', 'writer': '손흥민 수정', 'complete': True, 'id': 2}], 'member': [{'id': 'user00', 'pw': '1111'}]}\n"
     ]
    }
   ],
   "source": [
    "import json\n",
    "\n",
    "f = open('db.json','r')\n",
    "data = f.read()\n",
    "print(data)\n",
    "obj = json.loads(data)\n",
    "print(type(obj))\n",
    "print(obj)\n",
    "f.close()"
   ]
  },
  {
   "cell_type": "code",
   "execution_count": 23,
   "id": "eeb95d04",
   "metadata": {},
   "outputs": [
    {
     "name": "stdout",
     "output_type": "stream",
     "text": [
      "<class 'str'>\n",
      "{\"todos\": [{\"id\": 1, \"title\": \"json-server \", \"writer\": \"jin test\", \"complete\": true}, {\"title\": \"\\uc624\\ub298 \\ucc98\\uc74c \\ud574\\uc57c\\ud560\\uc77c \\uc218\\uc815\", \"writer\": \"\\uc190\\ud765\\ubbfc \\uc218\\uc815\", \"complete\": true, \"id\": 2}], \"member\": [{\"id\": \"user00\", \"pw\": \"1111\"}]}\n"
     ]
    }
   ],
   "source": [
    "json_str = json.dumps(obj)\n",
    "print(type(json_str))\n",
    "print(json_str)"
   ]
  },
  {
   "cell_type": "code",
   "execution_count": null,
   "id": "16f395c4",
   "metadata": {},
   "outputs": [],
   "source": []
  },
  {
   "cell_type": "code",
   "execution_count": null,
   "id": "79a32a89",
   "metadata": {},
   "outputs": [],
   "source": []
  },
  {
   "cell_type": "code",
   "execution_count": null,
   "id": "a24464e6",
   "metadata": {},
   "outputs": [],
   "source": []
  },
  {
   "cell_type": "code",
   "execution_count": null,
   "id": "90110307",
   "metadata": {},
   "outputs": [],
   "source": []
  },
  {
   "cell_type": "code",
   "execution_count": null,
   "id": "0a538c4b",
   "metadata": {},
   "outputs": [],
   "source": []
  },
  {
   "cell_type": "code",
   "execution_count": null,
   "id": "fdec1637",
   "metadata": {},
   "outputs": [],
   "source": []
  },
  {
   "cell_type": "code",
   "execution_count": null,
   "id": "5e686a90",
   "metadata": {},
   "outputs": [],
   "source": []
  }
 ],
 "metadata": {
  "kernelspec": {
   "display_name": "Python 3 (ipykernel)",
   "language": "python",
   "name": "python3"
  },
  "language_info": {
   "codemirror_mode": {
    "name": "ipython",
    "version": 3
   },
   "file_extension": ".py",
   "mimetype": "text/x-python",
   "name": "python",
   "nbconvert_exporter": "python",
   "pygments_lexer": "ipython3",
   "version": "3.9.13"
  }
 },
 "nbformat": 4,
 "nbformat_minor": 5
}
