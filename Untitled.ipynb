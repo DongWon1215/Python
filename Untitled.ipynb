{
 "cells": [
  {
   "cell_type": "code",
   "execution_count": 3,
   "id": "03c30d61",
   "metadata": {},
   "outputs": [
    {
     "name": "stdout",
     "output_type": "stream",
     "text": [
      "100 만원\n",
      "3000,5000,7000\n"
     ]
    }
   ],
   "source": [
    "# format : 문자열 포맷팅\n",
    "format_a = '{} 만원'.format(100)\n",
    "print(format_a)\n",
    "format_b = '{},{},{}'.format(3000,5000,7000)\n",
    "print(format_b)"
   ]
  },
  {
   "cell_type": "code",
   "execution_count": 8,
   "id": "bb97e101",
   "metadata": {},
   "outputs": [
    {
     "name": "stdout",
     "output_type": "stream",
     "text": [
      "###      String       ###\n",
      "###String###\n",
      "###String       ###\n",
      "###      String###\n",
      "False\n"
     ]
    }
   ],
   "source": [
    "#strip() lstrip() rstrip() : 공백 제거 해주는 함수\n",
    "str1 = '      String       '\n",
    "print('###' + str1 + '###')\n",
    "print('###' + str1.strip() + '###')\n",
    "print('###' + str1.lstrip() + '###')\n",
    "print('###' + str1.rstrip() + '###')\n",
    "print(str1.isalpha())\n"
   ]
  },
  {
   "cell_type": "code",
   "execution_count": 12,
   "id": "a04958fb",
   "metadata": {},
   "outputs": [
    {
     "name": "stdout",
     "output_type": "stream",
     "text": [
      "3\n"
     ]
    }
   ],
   "source": [
    "# find() : 문자열을 포함하는 위치 인덱스 반환\n",
    "result = '안녕하세요'.find('세요')\n",
    "print(result)"
   ]
  },
  {
   "cell_type": "code",
   "execution_count": null,
   "id": "1f2fd6f3",
   "metadata": {},
   "outputs": [],
   "source": [
    "# input 함수는 문자열을 반환\n",
    "num1 = input('정수입력 >>>')\n",
    "num2 = int(num1)\n",
    "if num2 > 0 :\n",
    "    print ('양수')\n",
    "if num2 < 0 :\n",
    "    print ('음수')\n",
    "if num2 = 0 :\n",
    "    print ('0')\n"
   ]
  }
 ],
 "metadata": {
  "kernelspec": {
   "display_name": "Python 3 (ipykernel)",
   "language": "python",
   "name": "python3"
  },
  "language_info": {
   "codemirror_mode": {
    "name": "ipython",
    "version": 3
   },
   "file_extension": ".py",
   "mimetype": "text/x-python",
   "name": "python",
   "nbconvert_exporter": "python",
   "pygments_lexer": "ipython3",
   "version": "3.9.13"
  }
 },
 "nbformat": 4,
 "nbformat_minor": 5
}
